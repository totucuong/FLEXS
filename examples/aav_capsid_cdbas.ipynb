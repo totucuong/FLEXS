{
 "cells": [
  {
   "cell_type": "code",
   "execution_count": 1,
   "metadata": {},
   "outputs": [
    {
     "name": "stdout",
     "output_type": "stream",
     "text": [
      "/home/ubuntu/miniconda3/envs/cinference/bin/python\n"
     ]
    }
   ],
   "source": [
    "!which python"
   ]
  },
  {
   "cell_type": "markdown",
   "metadata": {},
   "source": [
    "# Introduction\n",
    "\n",
    "Adeano-associated viruses (AAVs) are used in gene therapy as genome vehicle. They are found in different tissues on different animals as well as humans. These are call wild type ones. \n",
    "\n",
    "In order to increase the efficiency of gene therapy, we need good AAV capsdid, ie, their covers. The goodness are measured according to the following criteria\n",
    "\n",
    "1. tissue tropism: whether they can attach to a specific organs such as lunch, heart, or liver\n",
    "2. thermal stability: whether the AAV capsid are stable under heat\n",
    "3. immunological reaction: whether the AAV capsid invoke the reaction of the host immune system.\n",
    "\n",
    "Directed evolution approach in protein engineering are costly and slow, we want to accelerate it by using ML-methods to recommend potential candidates for wet-lab experiments.\n",
    "\n",
    "Our vision is to build an end-to-end platform to design protein sequence → start with AAV capsid\n",
    "\n",
    "At the moment we have experimented with: \n",
    "\n",
    "- We are building a testbed to experiment with different protein engineering methods in silico. They include three main part\n",
    "    - Oracles: predictive models that can be trained on real dataset\n",
    "    - Ground Truth: These are landscapes of (x,y), where x and y are sequence and fitness score, respectively. These are collected using wet-lab experiments.  They are used to benchmark different recommenders\n",
    "    - Recommenders: These algorithms use oracles to navigate the ground truth landscape. Note that we do not have access to the landscape in a real experiment.\n",
    "- AAV tropism dataset from \"Comprehensive AAV capsid fitness landscape reveals a viral gene and enables machine-guided design\" by Ogden, Pierce J and Kelsic, Eric D and Sinai, Sam and Church, George M.\n",
    "- We try different methods\n",
    "    - CbAS, DbAS.: the main idea cast the exploration problem as an optimization problem, where you wan to maximize the expectation of the likelihood a given sequence has desired properties. The expectation is computed with respect to the generative distribution.\n",
    "\n",
    "\n",
    "The production of AAVs capsid are controled by the **cap** section on the virus genome. \n"
   ]
  },
  {
   "cell_type": "markdown",
   "metadata": {},
   "source": [
    "### DbAS"
   ]
  },
  {
   "cell_type": "code",
   "execution_count": 2,
   "metadata": {},
   "outputs": [],
   "source": [
    "%reload_ext autoreload\n",
    "%autoreload 2\n",
    "%matplotlib inline\n",
    "\n",
    "import editdistance\n",
    "import matplotlib.pyplot as plt\n",
    "import seaborn as sns\n",
    "import pandas as pd\n",
    "import pprint\n",
    "import numpy as np\n",
    "import json"
   ]
  },
  {
   "cell_type": "code",
   "execution_count": 3,
   "metadata": {},
   "outputs": [],
   "source": [
    "import sys\n",
    "sys.path.insert(0, '../')\n",
    "\n",
    "import flexs\n",
    "from flexs import baselines\n",
    "import flexs.utils.sequence_utils as s_utils"
   ]
  },
  {
   "cell_type": "markdown",
   "metadata": {},
   "source": [
    "### Additive AAV tropism capsid"
   ]
  },
  {
   "cell_type": "markdown",
   "metadata": {},
   "source": [
    "Let's build a landscape (ground truth) for liver"
   ]
  },
  {
   "cell_type": "code",
   "execution_count": 4,
   "metadata": {},
   "outputs": [],
   "source": [
    "import pprint"
   ]
  },
  {
   "cell_type": "code",
   "execution_count": 5,
   "metadata": {},
   "outputs": [
    {
     "name": "stdout",
     "output_type": "stream",
     "text": [
      "{'params': {'end': 540, 'phenotype': 'liver', 'start': 450}}\n",
      "WT: PSGTTTQSRLQFSQAGASDIRDQSRNWLPGPCYRQQRVSKTSADNNNSEYSWTGATKYHLNGRDSLVNPGPAMASHKDDEEKFFPQSGVL, fitness: [0.5]\n"
     ]
    }
   ],
   "source": [
    "additive_aav_problem = flexs.landscapes.additive_aav_packaging.registry()['liver']\n",
    "additive_aav_landscape = flexs.landscapes.AdditiveAAVPackaging(**additive_aav_problem['params'])\n",
    "additive_aav_wt = additive_aav_landscape.wild_type\n",
    "additive_aav_landscape = flexs.landscapes.AdditiveAAVPackaging(**additive_aav_problem['params'])\n",
    "\n",
    "pprint.pprint(additive_aav_problem)\n",
    "print(f'WT: {additive_aav_wt}, fitness: {additive_aav_landscape.get_fitness([additive_aav_wt])}')"
   ]
  },
  {
   "cell_type": "markdown",
   "metadata": {},
   "source": [
    "Let's explore the landscape. We need three ingredients\n",
    "\n",
    "1. Oracle\n",
    "2. Generative model\n",
    "3. Explorer"
   ]
  },
  {
   "cell_type": "markdown",
   "metadata": {},
   "source": [
    "we start from the wild type"
   ]
  },
  {
   "cell_type": "code",
   "execution_count": 6,
   "metadata": {},
   "outputs": [],
   "source": [
    "starting_sequence = additive_aav_wt\n",
    "\n",
    "alphabet = s_utils.AAS\n",
    "\n",
    "cnn = baselines.models.CNN(len(starting_sequence), alphabet=alphabet,\n",
    "                         num_filters=32, hidden_size=100, loss='MSE')\n",
    "\n",
    "vae = baselines.explorers.VAE(len(starting_sequence), alphabet=alphabet, epochs=10, verbose=False)\n",
    "\n",
    "cbas_explorer = baselines.explorers.CbAS(\n",
    "    model=cnn,\n",
    "    generator=vae,\n",
    "    cycle_batch_size=100,\n",
    "    rounds=3,\n",
    "    starting_sequence=starting_sequence,\n",
    "    sequences_batch_size=100,\n",
    "    model_queries_per_batch=2000,\n",
    "    alphabet=alphabet,\n",
    ")"
   ]
  },
  {
   "cell_type": "code",
   "execution_count": 7,
   "metadata": {},
   "outputs": [],
   "source": [
    "import tensorflow as tf\n",
    "physical_devices = tf.config.list_physical_devices('GPU')\n",
    "tf.config.experimental.set_memory_growth(physical_devices[0], True)"
   ]
  },
  {
   "cell_type": "code",
   "execution_count": 8,
   "metadata": {},
   "outputs": [
    {
     "name": "stdout",
     "output_type": "stream",
     "text": [
      "round: 0, top: 0.5, time: 0.000511s\n"
     ]
    },
    {
     "name": "stderr",
     "output_type": "stream",
     "text": [
      "/home/ubuntu/miniconda3/envs/cinference/lib/python3.7/site-packages/tensorflow/python/data/ops/dataset_ops.py:3350: UserWarning: Even though the tf.config.experimental_run_functions_eagerly option is set, this option does not apply to tf.data functions. tf.data functions are still traced and executed as graphs.\n",
      "  \"Even though the tf.config.experimental_run_functions_eagerly \"\n"
     ]
    },
    {
     "name": "stdout",
     "output_type": "stream",
     "text": [
      "round: 1, top: 0.5042647600973422, time: 2.021807s\n"
     ]
    },
    {
     "name": "stderr",
     "output_type": "stream",
     "text": [
      "/home/ubuntu/miniconda3/envs/cinference/lib/python3.7/site-packages/tensorflow/python/data/ops/dataset_ops.py:3350: UserWarning: Even though the tf.config.experimental_run_functions_eagerly option is set, this option does not apply to tf.data functions. tf.data functions are still traced and executed as graphs.\n",
      "  \"Even though the tf.config.experimental_run_functions_eagerly \"\n"
     ]
    },
    {
     "name": "stdout",
     "output_type": "stream",
     "text": [
      "0 100\n",
      "100 100\n",
      "200 100\n",
      "300 100\n",
      "400 100\n",
      "500 100\n",
      "600 100\n",
      "700 100\n",
      "800 100\n",
      "900 100\n",
      "1000 100\n",
      "1100 100\n",
      "1200 100\n",
      "1300 100\n",
      "1400 100\n",
      "1500 100\n",
      "1600 100\n",
      "1700 100\n",
      "1800 100\n"
     ]
    },
    {
     "name": "stderr",
     "output_type": "stream",
     "text": [
      "../flexs/baselines/explorers/cbas_dbas.py:175: RuntimeWarning: overflow encountered in exp\n",
      "  weights = np.exp(log_probs_0 - log_probs_t)\n"
     ]
    },
    {
     "name": "stdout",
     "output_type": "stream",
     "text": [
      "1900 100\n",
      "round: 2, top: 0.5042647600973422, time: 242.314949s\n"
     ]
    },
    {
     "name": "stderr",
     "output_type": "stream",
     "text": [
      "/home/ubuntu/miniconda3/envs/cinference/lib/python3.7/site-packages/tensorflow/python/data/ops/dataset_ops.py:3350: UserWarning: Even though the tf.config.experimental_run_functions_eagerly option is set, this option does not apply to tf.data functions. tf.data functions are still traced and executed as graphs.\n",
      "  \"Even though the tf.config.experimental_run_functions_eagerly \"\n"
     ]
    },
    {
     "name": "stdout",
     "output_type": "stream",
     "text": [
      "0 100\n",
      "100 100\n",
      "200 100\n",
      "300 100\n",
      "400 100\n",
      "500 100\n",
      "600 100\n",
      "700 100\n",
      "800 100\n",
      "900 100\n",
      "1000 100\n",
      "1100 100\n",
      "1200 100\n",
      "1300 100\n",
      "1400 100\n",
      "1500 100\n",
      "1600 100\n",
      "1700 100\n",
      "1800 100\n",
      "1900 100\n",
      "round: 3, top: 0.5042647600973422, time: 238.656502s\n"
     ]
    }
   ],
   "source": [
    "cbas_sequences, metadata = cbas_explorer.run(landscape=additive_aav_landscape)"
   ]
  },
  {
   "cell_type": "code",
   "execution_count": 10,
   "metadata": {},
   "outputs": [
    {
     "data": {
      "text/plain": [
       "{'run_id': '15:15:35-11/12/2020',\n",
       " 'exp_name': 'cbas_Q=0.7_generator=VAE_latent_dim=2_intermediate_dim=250',\n",
       " 'model_name': 'CNN_hidden_size_100_num_filters_32',\n",
       " 'landscape_name': 'AdditiveAAVPackaging_phenotype=liver',\n",
       " 'rounds': 3,\n",
       " 'sequences_batch_size': 100,\n",
       " 'model_queries_per_batch': 2000}"
      ]
     },
     "execution_count": 10,
     "metadata": {},
     "output_type": "execute_result"
    }
   ],
   "source": [
    "metadata"
   ]
  },
  {
   "cell_type": "code",
   "execution_count": 11,
   "metadata": {},
   "outputs": [
    {
     "data": {
      "text/html": [
       "<div>\n",
       "<style scoped>\n",
       "    .dataframe tbody tr th:only-of-type {\n",
       "        vertical-align: middle;\n",
       "    }\n",
       "\n",
       "    .dataframe tbody tr th {\n",
       "        vertical-align: top;\n",
       "    }\n",
       "\n",
       "    .dataframe thead th {\n",
       "        text-align: right;\n",
       "    }\n",
       "</style>\n",
       "<table border=\"1\" class=\"dataframe\">\n",
       "  <thead>\n",
       "    <tr style=\"text-align: right;\">\n",
       "      <th></th>\n",
       "      <th>sequence</th>\n",
       "      <th>model_score</th>\n",
       "      <th>true_score</th>\n",
       "      <th>round</th>\n",
       "      <th>model_cost</th>\n",
       "      <th>measurement_cost</th>\n",
       "    </tr>\n",
       "  </thead>\n",
       "  <tbody>\n",
       "    <tr>\n",
       "      <th>0</th>\n",
       "      <td>PSGTTTQSRLQFSQAGASDIRDQSRNWLPGPCYRQQRVSKTSADNN...</td>\n",
       "      <td>NaN</td>\n",
       "      <td>0.500000</td>\n",
       "      <td>0</td>\n",
       "      <td>0</td>\n",
       "      <td>1</td>\n",
       "    </tr>\n",
       "    <tr>\n",
       "      <th>0</th>\n",
       "      <td>PSGTTTQSRLQFSQAGASDIRDQSRNWLPNPCYRQQRVSKTSADNN...</td>\n",
       "      <td>0.403502</td>\n",
       "      <td>0.000000</td>\n",
       "      <td>1</td>\n",
       "      <td>100</td>\n",
       "      <td>101</td>\n",
       "    </tr>\n",
       "    <tr>\n",
       "      <th>1</th>\n",
       "      <td>PDGTTTQSRLQFSQAGASDIRDQSRNWLPGPCYRQQRVSKTSADGN...</td>\n",
       "      <td>0.397954</td>\n",
       "      <td>0.042403</td>\n",
       "      <td>1</td>\n",
       "      <td>100</td>\n",
       "      <td>101</td>\n",
       "    </tr>\n",
       "    <tr>\n",
       "      <th>2</th>\n",
       "      <td>PSGTTTQSRLQFSQAGASDIRDQSRNWLPGPCYRQQRVSKTSDDNN...</td>\n",
       "      <td>0.386385</td>\n",
       "      <td>0.228401</td>\n",
       "      <td>1</td>\n",
       "      <td>100</td>\n",
       "      <td>101</td>\n",
       "    </tr>\n",
       "    <tr>\n",
       "      <th>3</th>\n",
       "      <td>PSGTTTQSRLQFSQAGASDIRDQNRNWLPGPCYRQQRVSKTSADNN...</td>\n",
       "      <td>0.404634</td>\n",
       "      <td>0.348008</td>\n",
       "      <td>1</td>\n",
       "      <td>100</td>\n",
       "      <td>101</td>\n",
       "    </tr>\n",
       "    <tr>\n",
       "      <th>...</th>\n",
       "      <td>...</td>\n",
       "      <td>...</td>\n",
       "      <td>...</td>\n",
       "      <td>...</td>\n",
       "      <td>...</td>\n",
       "      <td>...</td>\n",
       "    </tr>\n",
       "    <tr>\n",
       "      <th>94</th>\n",
       "      <td>SEWQDPQNVDSNIWEPHKRVMGSDSYQIWMPGVGDCNSIKVGPMIE...</td>\n",
       "      <td>0.022504</td>\n",
       "      <td>0.000000</td>\n",
       "      <td>3</td>\n",
       "      <td>4100</td>\n",
       "      <td>299</td>\n",
       "    </tr>\n",
       "    <tr>\n",
       "      <th>95</th>\n",
       "      <td>SIMCLTQYYMHEYKVPYTMLMCNRCRYIRNPCHGHTKVILFSQMKE...</td>\n",
       "      <td>0.022477</td>\n",
       "      <td>0.000000</td>\n",
       "      <td>3</td>\n",
       "      <td>4100</td>\n",
       "      <td>299</td>\n",
       "    </tr>\n",
       "    <tr>\n",
       "      <th>96</th>\n",
       "      <td>FAMQTKASPPVNYGVYSDCADICPQRFELHCMVVYHDPSKYVQLKG...</td>\n",
       "      <td>0.022452</td>\n",
       "      <td>0.000000</td>\n",
       "      <td>3</td>\n",
       "      <td>4100</td>\n",
       "      <td>299</td>\n",
       "    </tr>\n",
       "    <tr>\n",
       "      <th>97</th>\n",
       "      <td>SIWCLTQMYSHEYKQPCTMLMCNRCRFIRNPVHGHTKVILFSQMKE...</td>\n",
       "      <td>0.022438</td>\n",
       "      <td>0.000000</td>\n",
       "      <td>3</td>\n",
       "      <td>4100</td>\n",
       "      <td>299</td>\n",
       "    </tr>\n",
       "    <tr>\n",
       "      <th>98</th>\n",
       "      <td>SIWCLTQWYWNEYKCPETMLMCNRCRAIRNPMHGHTKVILFSQMKE...</td>\n",
       "      <td>0.022420</td>\n",
       "      <td>0.000000</td>\n",
       "      <td>3</td>\n",
       "      <td>4100</td>\n",
       "      <td>299</td>\n",
       "    </tr>\n",
       "  </tbody>\n",
       "</table>\n",
       "<p>299 rows × 6 columns</p>\n",
       "</div>"
      ],
      "text/plain": [
       "                                             sequence  model_score  \\\n",
       "0   PSGTTTQSRLQFSQAGASDIRDQSRNWLPGPCYRQQRVSKTSADNN...          NaN   \n",
       "0   PSGTTTQSRLQFSQAGASDIRDQSRNWLPNPCYRQQRVSKTSADNN...     0.403502   \n",
       "1   PDGTTTQSRLQFSQAGASDIRDQSRNWLPGPCYRQQRVSKTSADGN...     0.397954   \n",
       "2   PSGTTTQSRLQFSQAGASDIRDQSRNWLPGPCYRQQRVSKTSDDNN...     0.386385   \n",
       "3   PSGTTTQSRLQFSQAGASDIRDQNRNWLPGPCYRQQRVSKTSADNN...     0.404634   \n",
       "..                                                ...          ...   \n",
       "94  SEWQDPQNVDSNIWEPHKRVMGSDSYQIWMPGVGDCNSIKVGPMIE...     0.022504   \n",
       "95  SIMCLTQYYMHEYKVPYTMLMCNRCRYIRNPCHGHTKVILFSQMKE...     0.022477   \n",
       "96  FAMQTKASPPVNYGVYSDCADICPQRFELHCMVVYHDPSKYVQLKG...     0.022452   \n",
       "97  SIWCLTQMYSHEYKQPCTMLMCNRCRFIRNPVHGHTKVILFSQMKE...     0.022438   \n",
       "98  SIWCLTQWYWNEYKCPETMLMCNRCRAIRNPMHGHTKVILFSQMKE...     0.022420   \n",
       "\n",
       "    true_score  round  model_cost  measurement_cost  \n",
       "0     0.500000      0           0                 1  \n",
       "0     0.000000      1         100               101  \n",
       "1     0.042403      1         100               101  \n",
       "2     0.228401      1         100               101  \n",
       "3     0.348008      1         100               101  \n",
       "..         ...    ...         ...               ...  \n",
       "94    0.000000      3        4100               299  \n",
       "95    0.000000      3        4100               299  \n",
       "96    0.000000      3        4100               299  \n",
       "97    0.000000      3        4100               299  \n",
       "98    0.000000      3        4100               299  \n",
       "\n",
       "[299 rows x 6 columns]"
      ]
     },
     "execution_count": 11,
     "metadata": {},
     "output_type": "execute_result"
    }
   ],
   "source": [
    "cbas_sequences"
   ]
  },
  {
   "cell_type": "code",
   "execution_count": 12,
   "metadata": {},
   "outputs": [
    {
     "data": {
      "text/plain": [
       "<seaborn.axisgrid.FacetGrid at 0x7f2895b33590>"
      ]
     },
     "execution_count": 12,
     "metadata": {},
     "output_type": "execute_result"
    },
    {
     "data": {
      "image/png": "[encoded data removed]",
      "text/plain": [
       "<Figure size 360x360 with 1 Axes>"
      ]
     },
     "metadata": {
      "needs_background": "light"
     },
     "output_type": "display_data"
    }
   ],
   "source": [
    "sns.displot(cbas_sequences.model_score - cbas_sequences.true_score)"
   ]
  },
  {
   "cell_type": "code",
   "execution_count": null,
   "metadata": {},
   "outputs": [],
   "source": []
  }
 ],
 "metadata": {
  "kernelspec": {
   "display_name": "Python 3",
   "language": "python",
   "name": "python3"
  },
  "language_info": {
   "codemirror_mode": {
    "name": "ipython",
    "version": 3
   },
   "file_extension": ".py",
   "mimetype": "text/x-python",
   "name": "python",
   "nbconvert_exporter": "python",
   "pygments_lexer": "ipython3",
   "version": "3.7.8"
  }
 },
 "nbformat": 4,
 "nbformat_minor": 4
}
