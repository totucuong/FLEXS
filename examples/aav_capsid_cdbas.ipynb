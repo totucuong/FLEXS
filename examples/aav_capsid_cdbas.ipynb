{
 "cells": [
  {
   "cell_type": "markdown",
   "metadata": {},
   "source": [
    "# Introduction\n",
    "\n",
    "Adeano-associated viruses (AAVs) are used in gene therapy as genome vehicle. They are found in different tissues on different animals as well as humans. These are call wild type ones. \n",
    "\n",
    "In order to increase the efficiency of gene therapy, we need good AAV capsdid, ie, their covers. The goodness are measured according to the following criteria\n",
    "\n",
    "1. tissue tropism: whether they can attach to a specific organs such as lunch, heart, or liver\n",
    "2. thermal stability: whether the AAV capsid are stable under heat\n",
    "3. immunological reaction: whether the AAV capsid invoke the reaction of the host immune system.\n",
    "\n",
    "Directed evolution approach in protein engineering are costly and slow, we want to accelerate it by using ML-methods to recommend potential candidates for wet-lab experiments.\n",
    "\n",
    "Our vision is to build an end-to-end platform to design protein sequence → start with AAV capsid\n",
    "\n",
    "At the moment we have experimented with: \n",
    "\n",
    "- We are building a testbed to experiment with different protein engineering methods in silico. They include three main part\n",
    "    - Oracles: predictive models that can be trained on real dataset\n",
    "    - Ground Truth: These are landscapes of (x,y), where x and y are sequence and fitness score, respectively. These are collected using wet-lab experiments.  They are used to benchmark different recommenders\n",
    "    - Recommenders: These algorithms use oracles to navigate the ground truth landscape. Note that we do not have access to the landscape in a real experiment.\n",
    "- AAV tropism dataset from \"Comprehensive AAV capsid fitness landscape reveals a viral gene and enables machine-guided design\" by Ogden, Pierce J and Kelsic, Eric D and Sinai, Sam and Church, George M.\n",
    "- We try different methods\n",
    "    - CbAS, DbAS.: the main idea cast the exploration problem as an optimization problem, where you wan to maximize the expectation of the likelihood a given sequence has desired properties. The expectation is computed with respect to the generative distribution.\n",
    "\n",
    "\n",
    "The production of AAVs capsid are controled by the **cap** section on the virus genome. \n"
   ]
  },
  {
   "cell_type": "markdown",
   "metadata": {},
   "source": [
    "### DbAS"
   ]
  },
  {
   "cell_type": "code",
   "execution_count": 5,
   "metadata": {},
   "outputs": [],
   "source": [
    "%reload_ext autoreload\n",
    "%autoreload 2\n",
    "%matplotlib inline\n",
    "\n",
    "import editdistance\n",
    "import matplotlib.pyplot as plt\n",
    "import seaborn as sns\n",
    "import pandas as pd\n",
    "import pprint\n",
    "import numpy as np\n",
    "import json"
   ]
  },
  {
   "cell_type": "code",
   "execution_count": 6,
   "metadata": {},
   "outputs": [],
   "source": [
    "import sys\n",
    "sys.path.insert(0, '../')\n",
    "\n",
    "import flexs\n",
    "from flexs import baselines\n",
    "import flexs.utils.sequence_utils as s_utils"
   ]
  },
  {
   "cell_type": "markdown",
   "metadata": {},
   "source": [
    "### Additive AAV tropism capsid"
   ]
  },
  {
   "cell_type": "markdown",
   "metadata": {},
   "source": [
    "Let's build a landscape (ground truth) for liver"
   ]
  },
  {
   "cell_type": "code",
   "execution_count": 32,
   "metadata": {},
   "outputs": [
    {
     "name": "stdout",
     "output_type": "stream",
     "text": [
      "{'params': {'end': 540, 'phenotype': 'liver', 'start': 450}}\n",
      "WT: PSGTTTQSRLQFSQAGASDIRDQSRNWLPGPCYRQQRVSKTSADNNNSEYSWTGATKYHLNGRDSLVNPGPAMASHKDDEEKFFPQSGVL, fitness: [0.5]\n"
     ]
    }
   ],
   "source": [
    "additive_aav_problem = flexs.landscapes.additive_aav_packaging.registry()['liver']\n",
    "additive_aav_landscape = flexs.landscapes.AdditiveAAVPackaging(**additive_aav_problem['params'])\n",
    "additive_aav_wt = additive_aav_landscape.wild_type\n",
    "additive_aav_landscape = flexs.landscapes.AdditiveAAVPackaging(**additive_aav_problem['params'])\n",
    "\n",
    "pprint.pprint(additive_aav_problem)\n",
    "print(f'WT: {additive_aav_wt}, fitness: {additive_aav_landscape.get_fitness([additive_aav_wt])}')"
   ]
  },
  {
   "cell_type": "markdown",
   "metadata": {},
   "source": [
    "Let's explore the landscape. We need three ingredients\n",
    "\n",
    "1. Oracle\n",
    "2. Generative model\n",
    "3. Explorer"
   ]
  },
  {
   "cell_type": "markdown",
   "metadata": {},
   "source": [
    "we start from the wild type"
   ]
  },
  {
   "cell_type": "code",
   "execution_count": 44,
   "metadata": {},
   "outputs": [],
   "source": [
    "starting_sequence = additive_aav_wt\n",
    "\n",
    "alphabet = s_utils.AAS\n",
    "\n",
    "cnn = baselines.models.CNN(len(starting_sequence), alphabet=alphabet,\n",
    "                         num_filters=32, hidden_size=100, loss='MSE')\n",
    "\n",
    "vae = baselines.explorers.VAE(len(starting_sequence), alphabet=alphabet, epochs=10, verbose=False)\n",
    "\n",
    "cbas_explorer = baselines.explorers.CbAS(\n",
    "    model=cnn,\n",
    "    generator=vae,\n",
    "    cycle_batch_size=100,\n",
    "    rounds=10,\n",
    "    starting_sequence=starting_sequence,\n",
    "    sequences_batch_size=100,\n",
    "    model_queries_per_batch=2000,\n",
    "    alphabet=alphabet,\n",
    ")"
   ]
  },
  {
   "cell_type": "code",
   "execution_count": 48,
   "metadata": {},
   "outputs": [
    {
     "name": "stdout",
     "output_type": "stream",
     "text": [
      "round: 0, top: 0.5, time: 0.000312s\n"
     ]
    },
    {
     "name": "stderr",
     "output_type": "stream",
     "text": [
      "/Users/totucuong/miniconda3/envs/cinference/lib/python3.7/site-packages/tensorflow/python/data/ops/dataset_ops.py:3350: UserWarning: Even though the tf.config.experimental_run_functions_eagerly option is set, this option does not apply to tf.data functions. tf.data functions are still traced and executed as graphs.\n",
      "  \"Even though the tf.config.experimental_run_functions_eagerly \"\n"
     ]
    },
    {
     "name": "stdout",
     "output_type": "stream",
     "text": [
      "round: 1, top: 0.5101216714222102, time: 0.378895s\n"
     ]
    },
    {
     "name": "stderr",
     "output_type": "stream",
     "text": [
      "/Users/totucuong/miniconda3/envs/cinference/lib/python3.7/site-packages/tensorflow/python/data/ops/dataset_ops.py:3350: UserWarning: Even though the tf.config.experimental_run_functions_eagerly option is set, this option does not apply to tf.data functions. tf.data functions are still traced and executed as graphs.\n",
      "  \"Even though the tf.config.experimental_run_functions_eagerly \"\n"
     ]
    },
    {
     "name": "stdout",
     "output_type": "stream",
     "text": [
      "0 100\n",
      "100 100\n",
      "200 100\n",
      "300 100\n",
      "400 100\n",
      "500 100\n",
      "600 100\n",
      "700 100\n",
      "800 100\n",
      "900 100\n",
      "1000 100\n",
      "1100 100\n",
      "1200 100\n",
      "1300 100\n",
      "1400 100\n",
      "1500 100\n",
      "1600 100\n",
      "1700 100\n",
      "1800 100\n",
      "1900 100\n",
      "round: 2, top: 0.5101216714222102, time: 233.911361s\n"
     ]
    },
    {
     "name": "stderr",
     "output_type": "stream",
     "text": [
      "/Users/totucuong/miniconda3/envs/cinference/lib/python3.7/site-packages/tensorflow/python/data/ops/dataset_ops.py:3350: UserWarning: Even though the tf.config.experimental_run_functions_eagerly option is set, this option does not apply to tf.data functions. tf.data functions are still traced and executed as graphs.\n",
      "  \"Even though the tf.config.experimental_run_functions_eagerly \"\n"
     ]
    },
    {
     "name": "stdout",
     "output_type": "stream",
     "text": [
      "0 100\n",
      "100 100\n",
      "200 100\n",
      "300 100\n",
      "400 100\n",
      "500 100\n",
      "600 100\n",
      "700 100\n",
      "800 100\n",
      "900 100\n",
      "1000 100\n",
      "1100 100\n",
      "1200 100\n",
      "1300 100\n",
      "1400 100\n",
      "1500 100\n",
      "1600 100\n",
      "1700 100\n",
      "1800 100\n",
      "1900 100\n",
      "round: 3, top: 0.5101216714222102, time: 236.273083s\n"
     ]
    },
    {
     "name": "stderr",
     "output_type": "stream",
     "text": [
      "/Users/totucuong/miniconda3/envs/cinference/lib/python3.7/site-packages/tensorflow/python/data/ops/dataset_ops.py:3350: UserWarning: Even though the tf.config.experimental_run_functions_eagerly option is set, this option does not apply to tf.data functions. tf.data functions are still traced and executed as graphs.\n",
      "  \"Even though the tf.config.experimental_run_functions_eagerly \"\n"
     ]
    },
    {
     "name": "stdout",
     "output_type": "stream",
     "text": [
      "0 100\n",
      "100 100\n",
      "200 100\n",
      "300 100\n",
      "400 100\n",
      "500 100\n",
      "600 100\n",
      "700 100\n",
      "800 100\n",
      "900 100\n",
      "1000 100\n",
      "1100 100\n",
      "1200 100\n",
      "1300 100\n",
      "1400 100\n",
      "1500 100\n",
      "1600 100\n",
      "1700 100\n",
      "1800 100\n",
      "1900 100\n",
      "round: 4, top: 0.5101216714222102, time: 215.962442s\n"
     ]
    },
    {
     "name": "stderr",
     "output_type": "stream",
     "text": [
      "/Users/totucuong/miniconda3/envs/cinference/lib/python3.7/site-packages/tensorflow/python/data/ops/dataset_ops.py:3350: UserWarning: Even though the tf.config.experimental_run_functions_eagerly option is set, this option does not apply to tf.data functions. tf.data functions are still traced and executed as graphs.\n",
      "  \"Even though the tf.config.experimental_run_functions_eagerly \"\n"
     ]
    },
    {
     "name": "stdout",
     "output_type": "stream",
     "text": [
      "0 100\n",
      "100 100\n",
      "200 100\n",
      "300 100\n",
      "400 100\n",
      "500 100\n",
      "600 100\n",
      "700 100\n",
      "800 100\n",
      "900 100\n",
      "1000 100\n",
      "1100 100\n",
      "1200 100\n",
      "1300 100\n",
      "1400 100\n",
      "1500 100\n",
      "1600 100\n",
      "1700 100\n",
      "1800 100\n",
      "1900 100\n",
      "round: 5, top: 0.5101216714222102, time: 345.852462s\n"
     ]
    },
    {
     "name": "stderr",
     "output_type": "stream",
     "text": [
      "/Users/totucuong/miniconda3/envs/cinference/lib/python3.7/site-packages/tensorflow/python/data/ops/dataset_ops.py:3350: UserWarning: Even though the tf.config.experimental_run_functions_eagerly option is set, this option does not apply to tf.data functions. tf.data functions are still traced and executed as graphs.\n",
      "  \"Even though the tf.config.experimental_run_functions_eagerly \"\n"
     ]
    },
    {
     "name": "stdout",
     "output_type": "stream",
     "text": [
      "0 100\n",
      "100 100\n",
      "200 100\n",
      "300 100\n",
      "400 100\n",
      "500 100\n",
      "600 100\n",
      "700 100\n",
      "800 100\n",
      "900 100\n",
      "1000 100\n",
      "1100 100\n",
      "1200 100\n",
      "1300 100\n",
      "1400 100\n",
      "1500 100\n",
      "1600 100\n",
      "1700 100\n",
      "1800 100\n",
      "1900 100\n",
      "round: 6, top: 0.5101216714222102, time: 228.342710s\n"
     ]
    },
    {
     "name": "stderr",
     "output_type": "stream",
     "text": [
      "/Users/totucuong/miniconda3/envs/cinference/lib/python3.7/site-packages/tensorflow/python/data/ops/dataset_ops.py:3350: UserWarning: Even though the tf.config.experimental_run_functions_eagerly option is set, this option does not apply to tf.data functions. tf.data functions are still traced and executed as graphs.\n",
      "  \"Even though the tf.config.experimental_run_functions_eagerly \"\n"
     ]
    },
    {
     "name": "stdout",
     "output_type": "stream",
     "text": [
      "0 100\n",
      "100 100\n",
      "200 100\n",
      "300 100\n",
      "400 100\n",
      "500 100\n",
      "600 100\n",
      "700 100\n",
      "800 100\n",
      "900 100\n",
      "1000 100\n",
      "1100 100\n",
      "1200 100\n",
      "1300 100\n",
      "1400 100\n",
      "1500 100\n",
      "1600 100\n",
      "1700 100\n",
      "1800 100\n",
      "1900 100\n",
      "round: 7, top: 0.5101216714222102, time: 223.910694s\n"
     ]
    },
    {
     "name": "stderr",
     "output_type": "stream",
     "text": [
      "/Users/totucuong/miniconda3/envs/cinference/lib/python3.7/site-packages/tensorflow/python/data/ops/dataset_ops.py:3350: UserWarning: Even though the tf.config.experimental_run_functions_eagerly option is set, this option does not apply to tf.data functions. tf.data functions are still traced and executed as graphs.\n",
      "  \"Even though the tf.config.experimental_run_functions_eagerly \"\n"
     ]
    },
    {
     "name": "stdout",
     "output_type": "stream",
     "text": [
      "0 100\n",
      "100 100\n",
      "200 100\n",
      "300 100\n",
      "400 100\n",
      "500 100\n",
      "600 100\n",
      "700 100\n",
      "800 100\n",
      "900 100\n",
      "1000 100\n",
      "1100 100\n",
      "1200 100\n",
      "1300 100\n",
      "1400 100\n",
      "1500 100\n",
      "1600 100\n",
      "1700 100\n",
      "1800 100\n",
      "1900 100\n",
      "round: 8, top: 0.5101216714222102, time: 263.599728s\n"
     ]
    },
    {
     "name": "stderr",
     "output_type": "stream",
     "text": [
      "/Users/totucuong/miniconda3/envs/cinference/lib/python3.7/site-packages/tensorflow/python/data/ops/dataset_ops.py:3350: UserWarning: Even though the tf.config.experimental_run_functions_eagerly option is set, this option does not apply to tf.data functions. tf.data functions are still traced and executed as graphs.\n",
      "  \"Even though the tf.config.experimental_run_functions_eagerly \"\n"
     ]
    },
    {
     "name": "stdout",
     "output_type": "stream",
     "text": [
      "0 100\n",
      "100 100\n",
      "200 100\n",
      "300 100\n",
      "400 100\n",
      "500 100\n",
      "600 100\n",
      "700 100\n",
      "800 100\n",
      "900 100\n",
      "1000 100\n",
      "1100 100\n",
      "1200 100\n",
      "1300 100\n",
      "1400 100\n",
      "1500 100\n",
      "1600 100\n",
      "1700 100\n",
      "1800 100\n",
      "1900 100\n",
      "round: 9, top: 0.5101216714222102, time: 242.450165s\n"
     ]
    },
    {
     "name": "stderr",
     "output_type": "stream",
     "text": [
      "/Users/totucuong/miniconda3/envs/cinference/lib/python3.7/site-packages/tensorflow/python/data/ops/dataset_ops.py:3350: UserWarning: Even though the tf.config.experimental_run_functions_eagerly option is set, this option does not apply to tf.data functions. tf.data functions are still traced and executed as graphs.\n",
      "  \"Even though the tf.config.experimental_run_functions_eagerly \"\n"
     ]
    },
    {
     "name": "stdout",
     "output_type": "stream",
     "text": [
      "0 100\n",
      "100 100\n",
      "200 100\n",
      "300 100\n",
      "400 100\n",
      "500 100\n",
      "600 100\n",
      "700 100\n",
      "800 100\n",
      "900 100\n",
      "1000 100\n",
      "1100 100\n",
      "1200 100\n",
      "1300 100\n",
      "1400 100\n",
      "1500 100\n",
      "1600 100\n",
      "1700 100\n",
      "1800 100\n",
      "1900 100\n",
      "round: 10, top: 0.5101216714222102, time: 254.542627s\n"
     ]
    }
   ],
   "source": [
    "cbas_sequences, metadata = cbas_explorer.run(landscape=additive_aav_landscape)"
   ]
  },
  {
   "cell_type": "code",
   "execution_count": 50,
   "metadata": {},
   "outputs": [
    {
     "data": {
      "text/plain": [
       "{'run_id': '16:45:52-11/11/2020',\n",
       " 'exp_name': 'cbas_Q=0.7_generator=VAE_latent_dim=2_intermediate_dim=250',\n",
       " 'model_name': 'CNN_hidden_size_100_num_filters_32',\n",
       " 'landscape_name': 'AdditiveAAVPackaging_phenotype=liver',\n",
       " 'rounds': 10,\n",
       " 'sequences_batch_size': 100,\n",
       " 'model_queries_per_batch': 2000}"
      ]
     },
     "execution_count": 50,
     "metadata": {},
     "output_type": "execute_result"
    }
   ],
   "source": [
    "metadata"
   ]
  },
  {
   "cell_type": "code",
   "execution_count": null,
   "metadata": {},
   "outputs": [],
   "source": []
  }
 ],
 "metadata": {
  "kernelspec": {
   "display_name": "Python 3",
   "language": "python",
   "name": "python3"
  },
  "language_info": {
   "codemirror_mode": {
    "name": "ipython",
    "version": 3
   },
   "file_extension": ".py",
   "mimetype": "text/x-python",
   "name": "python",
   "nbconvert_exporter": "python",
   "pygments_lexer": "ipython3",
   "version": "3.7.8"
  }
 },
 "nbformat": 4,
 "nbformat_minor": 4
}
